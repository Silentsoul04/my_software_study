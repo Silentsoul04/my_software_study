{
 "cells": [
  {
   "cell_type": "markdown",
   "metadata": {},
   "source": [
    "## [과목] Python 과목평가 \n",
    "#### 2019.01.21 09:00 ~ 2019.01.21 10:20"
   ]
  },
  {
   "cell_type": "markdown",
   "metadata": {},
   "source": [
    "### copy\n",
    "보기의 파이썬 코드를 실행하였을 때 틀린 것을 고르시오.\n",
    "1. list1 == list3 의 결과는 True이다.\n",
    "2. 'list4[2][0] = 4' 라는 코드 입력 후, 'print(list2[2][0]'의 출력 값은 4이다.\n",
    "3. 'list4[2] = 5' 라는 코드 입력 후, 'print(list2[2])'의 출력 값은 5이다.\n",
    "4. 'list5[2][1] = 3' 라는 코드 입력 후, 'print(list2[2][1])의 결과값은 'a'이다."
   ]
  },
  {
   "cell_type": "code",
   "execution_count": null,
   "metadata": {},
   "outputs": [],
   "source": []
  },
  {
   "cell_type": "code",
   "execution_count": null,
   "metadata": {},
   "outputs": [],
   "source": [
    "import copy\n",
    "\n",
    "list1 = [3, 'a', 'b']\n",
    "list2 = [1, 2, list1]\n",
    "\n",
    "list3 = list1[:]\n",
    "list4 = copy.copy(list2)\n",
    "list5 = copy.deepcopy(list2)"
   ]
  },
  {
   "cell_type": "markdown",
   "metadata": {},
   "source": [
    "list1 == list3 : True\n",
    "\n",
    "\n",
    "lits1 is list3 : False"
   ]
  },
  {
   "cell_type": "markdown",
   "metadata": {},
   "source": [
    "### class 생성자 문제\n",
    "보기의 파이썬 코드를 작성한 후, 인스턴스를 만드려고 한다. 다음 중 옳은 것을 고르시오.\n",
    "1. p1 = Person(p1, 'hong', 100)\n",
    "2. p2 = Person('kim')\n",
    "3. p3 = Person(age = 3, name = 'kang')\n",
    "4. p4 = Person()"
   ]
  },
  {
   "cell_type": "code",
   "execution_count": null,
   "metadata": {},
   "outputs": [],
   "source": [
    "class Person:\n",
    "    def __init__(self, name, age):\n",
    "        self.name = name"
   ]
  },
  {
   "cell_type": "markdown",
   "metadata": {},
   "source": [
    "### dictionary update\n",
    "보기의 파이썬 코드를 실행하였을 때, 다음 중 옳은 것을 고르시오.\n",
    "\n",
    "1. len(a1)은 2다.\n",
    "2. a1과 a2는 같은 딕셔너리를 가리키고 있다.\n",
    "3. 에러가 발생한다.\n",
    "4. 보기 중에 답이 없다."
   ]
  },
  {
   "cell_type": "code",
   "execution_count": 1,
   "metadata": {},
   "outputs": [
    {
     "name": "stdout",
     "output_type": "stream",
     "text": [
      "{'a': 1, 'b': 2, 'c': 3}\n",
      "None\n",
      "None\n"
     ]
    }
   ],
   "source": [
    "d = {'a' : 1, 'b' : 2}\n",
    "a1 = d.update(c = 3)\n",
    "a2 = a1\n",
    "\n",
    "print(d)\n",
    "print(a1)\n",
    "print(a2)"
   ]
  },
  {
   "cell_type": "markdown",
   "metadata": {},
   "source": [
    "a1과 a2는 None을 가리키고 있다.(dict X)"
   ]
  },
  {
   "cell_type": "markdown",
   "metadata": {},
   "source": [
    "### String Silicing\n",
    "보기의 파이썬 코드를 실행하였을 때, 출력되는 결과를 작성하시오."
   ]
  },
  {
   "cell_type": "code",
   "execution_count": 2,
   "metadata": {},
   "outputs": [
    {
     "name": "stdout",
     "output_type": "stream",
     "text": [
      "hon\n"
     ]
    }
   ],
   "source": [
    "word = 'Python'\n",
    "a = word[3:8]\n",
    "print(a)"
   ]
  },
  {
   "cell_type": "markdown",
   "metadata": {},
   "source": [
    "### List"
   ]
  },
  {
   "cell_type": "code",
   "execution_count": 3,
   "metadata": {},
   "outputs": [
    {
     "name": "stdout",
     "output_type": "stream",
     "text": [
      "[0, 0, 0, 0, 0]\n"
     ]
    }
   ],
   "source": [
    "L = [0 for i in range(5)]\n",
    "print(L)"
   ]
  },
  {
   "cell_type": "markdown",
   "metadata": {},
   "source": [
    "### Dictionary"
   ]
  },
  {
   "cell_type": "code",
   "execution_count": 4,
   "metadata": {},
   "outputs": [],
   "source": [
    "d1 = {'d' : dict()}\n",
    "d2 = dict(d = {})"
   ]
  },
  {
   "cell_type": "markdown",
   "metadata": {},
   "source": [
    "### Function"
   ]
  },
  {
   "cell_type": "code",
   "execution_count": 1,
   "metadata": {},
   "outputs": [
    {
     "name": "stdout",
     "output_type": "stream",
     "text": [
      "80\n"
     ]
    }
   ],
   "source": [
    "def func(a, b=1, c=2, *args, **kwargs):\n",
    "    d = sum([n*2 for n in args if n > 2])\n",
    "    e = sum([v*v for k, v in kwargs.items()])\n",
    "    return a + b + c + d + e \n",
    "\n",
    "print(func(9, 4, 2, 3, 1, 7, d=3, e=6))"
   ]
  },
  {
   "cell_type": "code",
   "execution_count": null,
   "metadata": {},
   "outputs": [],
   "source": [
    "@app.route(\"/\")\n",
    "def index():\n",
    "    a = \"hello\"\n",
    "    b = \"world\"\n",
    "    return render_template('index.html', a = a, b = b)\n",
    "\n",
    "# flask.py\n",
    "def render_template(XXXXX, **kwargs):\n",
    "    \n",
    "# index.html\n",
    "{{a}}"
   ]
  },
  {
   "cell_type": "markdown",
   "metadata": {},
   "source": [
    "### my_sum\n",
    "return"
   ]
  },
  {
   "cell_type": "code",
   "execution_count": 7,
   "metadata": {},
   "outputs": [
    {
     "name": "stdout",
     "output_type": "stream",
     "text": [
      "13\n",
      "None\n"
     ]
    }
   ],
   "source": [
    "def my_sum(a, b):\n",
    "    c = a + b\n",
    "    print(c)\n",
    "    \n",
    "result = my_sum(5, 8)\n",
    "print(result)"
   ]
  },
  {
   "cell_type": "markdown",
   "metadata": {},
   "source": [
    "### my_func\n",
    "end=''\n",
    "- python function **hoisting**"
   ]
  },
  {
   "cell_type": "code",
   "execution_count": 12,
   "metadata": {},
   "outputs": [
    {
     "name": "stdout",
     "output_type": "stream",
     "text": [
      "11\n"
     ]
    }
   ],
   "source": [
    "a = 1\n",
    "def my_func_1():\n",
    "    a = 5\n",
    "    my_func_2()\n",
    "    \n",
    "def my_func_2():\n",
    "    print(a, end = '')\n",
    "    \n",
    "my_func_1()\n",
    "print(a)"
   ]
  },
  {
   "cell_type": "code",
   "execution_count": 13,
   "metadata": {},
   "outputs": [
    {
     "name": "stdout",
     "output_type": "stream",
     "text": [
      "51\n"
     ]
    }
   ],
   "source": [
    "a = 1\n",
    "def my_func_1():\n",
    "    a = 5\n",
    "    my_func_2()\n",
    "    \n",
    "def my_func_2():\n",
    "    a = 5\n",
    "    print(a, end = '')\n",
    "    \n",
    "my_func_1()\n",
    "print(a)"
   ]
  },
  {
   "cell_type": "markdown",
   "metadata": {},
   "source": [
    "- Python Closure(클로저)"
   ]
  },
  {
   "cell_type": "code",
   "execution_count": 2,
   "metadata": {},
   "outputs": [
    {
     "name": "stdout",
     "output_type": "stream",
     "text": [
      "11\n"
     ]
    }
   ],
   "source": [
    "a = 1\n",
    "def my_func_1():\n",
    "    a = 5\n",
    "    def my_func_2():\n",
    "        print(a, end = '')\n",
    "    my_func_2()\n",
    "    \n",
    "my_func_1()\n",
    "print(a)"
   ]
  },
  {
   "cell_type": "code",
   "execution_count": 26,
   "metadata": {},
   "outputs": [
    {
     "name": "stdout",
     "output_type": "stream",
     "text": [
      "8\n",
      "7\n",
      "my_func_3 실행 종료\n",
      "my_func_2 실행 종료\n",
      "my_func_1 실행 종료\n"
     ]
    }
   ],
   "source": [
    "a = 1\n",
    "def my_func_1():\n",
    "    a = 5\n",
    "    def my_func_2():\n",
    "        a = 7\n",
    "        print(a+1)\n",
    "        def my_func_3():\n",
    "            print(a)\n",
    "            print('my_func_3 실행 종료')\n",
    "            \n",
    "        my_func_3()\n",
    "        print('my_func_2 실행 종료')\n",
    "    \n",
    "    my_func_2()\n",
    "    print('my_func_1 실행 종료')\n",
    "\n",
    "my_func_1()"
   ]
  },
  {
   "cell_type": "markdown",
   "metadata": {},
   "source": [
    "### .real"
   ]
  },
  {
   "cell_type": "code",
   "execution_count": 27,
   "metadata": {},
   "outputs": [
    {
     "ename": "TypeError",
     "evalue": "'float' object is not callable",
     "output_type": "error",
     "traceback": [
      "\u001b[1;31m---------------------------------------------------------------------------\u001b[0m",
      "\u001b[1;31mTypeError\u001b[0m                                 Traceback (most recent call last)",
      "\u001b[1;32m<ipython-input-27-f29925f10562>\u001b[0m in \u001b[0;36m<module>\u001b[1;34m\u001b[0m\n\u001b[0;32m      1\u001b[0m \u001b[0mcomplex_num\u001b[0m \u001b[1;33m=\u001b[0m \u001b[1;36m3\u001b[0m \u001b[1;33m+\u001b[0m \u001b[1;36m4j\u001b[0m\u001b[1;33m\u001b[0m\u001b[1;33m\u001b[0m\u001b[0m\n\u001b[1;32m----> 2\u001b[1;33m \u001b[0mcomplex_num\u001b[0m\u001b[1;33m.\u001b[0m\u001b[0mreal\u001b[0m\u001b[1;33m(\u001b[0m\u001b[1;33m)\u001b[0m\u001b[1;33m\u001b[0m\u001b[1;33m\u001b[0m\u001b[0m\n\u001b[0m",
      "\u001b[1;31mTypeError\u001b[0m: 'float' object is not callable"
     ]
    }
   ],
   "source": [
    "complex_num = 3 + 4j\n",
    "complex_num.real()"
   ]
  },
  {
   "cell_type": "code",
   "execution_count": 28,
   "metadata": {},
   "outputs": [
    {
     "data": {
      "text/plain": [
       "3.0"
      ]
     },
     "execution_count": 28,
     "metadata": {},
     "output_type": "execute_result"
    }
   ],
   "source": [
    "complex_num = 3 + 4j\n",
    "complex_num.real"
   ]
  },
  {
   "cell_type": "markdown",
   "metadata": {},
   "source": [
    "### type 확인"
   ]
  },
  {
   "cell_type": "code",
   "execution_count": 29,
   "metadata": {},
   "outputs": [
    {
     "data": {
      "text/plain": [
       "True"
      ]
     },
     "execution_count": 29,
     "metadata": {},
     "output_type": "execute_result"
    }
   ],
   "source": [
    "num = 1\n",
    "type(num) == int"
   ]
  },
  {
   "cell_type": "markdown",
   "metadata": {},
   "source": [
    "### *args"
   ]
  },
  {
   "cell_type": "code",
   "execution_count": 31,
   "metadata": {},
   "outputs": [
    {
     "name": "stdout",
     "output_type": "stream",
     "text": [
      "421\n"
     ]
    }
   ],
   "source": [
    "def func(c = '5', *args):\n",
    "    a, c, b = args\n",
    "    return a + b + c\n",
    "\n",
    "print(func('3', '4', '1', '2'))"
   ]
  }
 ],
 "metadata": {
  "kernelspec": {
   "display_name": "Python 3",
   "language": "python",
   "name": "python3"
  },
  "language_info": {
   "codemirror_mode": {
    "name": "ipython",
    "version": 3
   },
   "file_extension": ".py",
   "mimetype": "text/x-python",
   "name": "python",
   "nbconvert_exporter": "python",
   "pygments_lexer": "ipython3",
   "version": "3.7.1"
  }
 },
 "nbformat": 4,
 "nbformat_minor": 2
}
