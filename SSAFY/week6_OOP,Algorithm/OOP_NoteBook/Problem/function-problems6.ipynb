{
 "cells": [
  {
   "cell_type": "markdown",
   "metadata": {},
   "source": [
    "## Function-Problems2"
   ]
  },
  {
   "cell_type": "markdown",
   "metadata": {},
   "source": [
    "### 문제1\n",
    "\n",
    ">휴식을 위해 휴가를 가기로 결정했습니다. 휴가지에서 편히 돌아다니기 위해 렌터카를\n",
    "빌려야 합니다. 렌터카 회사의 직원이 당신에게 보내준 가격 책정 방법은 다음과 같습니다.\n",
    "\n",
    "> 매일 40달러의 비용이 청구됩니다. 7일 이상 차를 빌리면, 50달러가 할인됩니다. 또한,\n",
    "3일 이상 차를 렌트하면 20달러가 할인됩니다. 총 금액을 '당신의 렌터카 비용은 00$입니다' 라는 메세지를 반환하는 함수를 만드세요."
   ]
  },
  {
   "cell_type": "code",
   "execution_count": 1,
   "metadata": {},
   "outputs": [
    {
     "name": "stdout",
     "output_type": "stream",
     "text": [
      "310\n",
      "180\n",
      "80\n"
     ]
    }
   ],
   "source": [
    "#여기에 코드를 작성하세요\n",
    "def rent(x):\n",
    "    result = 40*x\n",
    "    if x>=7:\n",
    "        result-=50\n",
    "    elif x>=3:\n",
    "        result-=20\n",
    "    return result\n",
    "\n",
    "print(rent(9))\n",
    "print(rent(5))\n",
    "print(rent(2))"
   ]
  },
  {
   "cell_type": "markdown",
   "metadata": {},
   "source": [
    "### 문제2\n",
    "\n",
    ">같은 숫자가 한개 있거나 두개가 들어있는 리스트가 주어집니다. 이러한 리스트에서 숫자가 한개만있는 요소들의 합을 구하는 함수를 작성하세요.\n",
    "\n",
    "> 예를 들어, repeats([4, 5, 7, 5, 4, 8]) = 15 는 7과 8이 한번만 나오기 때문에 두개를 더한 15가 결과값으로 도출됩니다. "
   ]
  },
  {
   "cell_type": "code",
   "execution_count": 3,
   "metadata": {},
   "outputs": [
    {
     "name": "stdout",
     "output_type": "stream",
     "text": [
      "15\n"
     ]
    }
   ],
   "source": [
    "# 여기에 코드를 작성하세요\n",
    "def solution(x):\n",
    "    dic={}\n",
    "    result=0\n",
    "    for i in x:\n",
    "        if i in dic:\n",
    "            dic[i]+=1\n",
    "        if i not in dic:\n",
    "            dic[i]=1\n",
    "    for k,v in dic.items():\n",
    "        if v ==1:\n",
    "            result+=k\n",
    "    return result\n",
    "print(solution([4,5,7,5,4,8]))"
   ]
  },
  {
   "cell_type": "markdown",
   "metadata": {},
   "source": [
    "### 문제3\n",
    "\n",
    ">과수원에 농부 한명이 썩은 과일이 몇개 들어있는 과일 봉지를 가지고 있습니다. (이 과일 봉지는리스트를 의미합니다) 농부는 썩은 과일 조각들을 모두 신선한 것으로 교체하고 싶어합니다. (rotten과일을 신선한 과일로 바꿔야 합니다)\n",
    "\n",
    ">예를 들어,\n",
    "- [\"apple\",\"rottenBanana\",\"apple\"] 이라는 리스트가 주어진 경우, 대체된 리스트는[\"apple\",\"banana\",\"apple\"]이어야 합니다. 당신은 썩은 과일들이 신선한 과일로 대체되어 리스트로 만드는 함수를 작성하면 됩니다.\n",
    "\n",
    "\n",
    "> 유의\n",
    "- 만약 리스트가 null/nil/None이거나 비어 있는 경우 빈 리스트를 반환합니다.\n",
    "- 반환된 리스트는 소문자여야 합니다,"
   ]
  },
  {
   "cell_type": "code",
   "execution_count": 10,
   "metadata": {},
   "outputs": [
    {
     "name": "stdout",
     "output_type": "stream",
     "text": [
      "['apple', 'banana', 'apple']\n"
     ]
    }
   ],
   "source": [
    "# 여기에 코드를 작성하세요\n",
    "def solution(x):\n",
    "    for i,v in enumerate(x):\n",
    "        if 'rotten' in v:\n",
    "            x[i]=v.replace('rotten','')\n",
    "            x[i]=x[i].lower() #v.lower()을 해버리면 안됨 v는 바뀐 상황이 아니니까\n",
    "        else:\n",
    "            x[i]=v\n",
    "    return x\n",
    "print(solution(['apple','rottenBanana','apple']))"
   ]
  },
  {
   "cell_type": "markdown",
   "metadata": {},
   "source": [
    "### 문제4\n",
    "\n",
    ">마을의 신호등을 제어하는 코드를 작성하려고 합니다. 녹색 -> 노란색 -> 빨간색 \n",
    "-> 녹색으로 변환하는 함수가 필요합니다. \n",
    "\n",
    "> 현재의 불빛 상태를 나타내는 인수하고 함수를 실행 시켰을 때 변경 되어야 하는 빛의 색을 \n",
    "나타내는 함수를 완성하세요.\n",
    "\n",
    ">예시:update_light('green') should return 'yellow'."
   ]
  },
  {
   "cell_type": "code",
   "execution_count": 11,
   "metadata": {},
   "outputs": [
    {
     "name": "stdout",
     "output_type": "stream",
     "text": [
      "노란색\n",
      "빨간색\n",
      "녹색\n"
     ]
    }
   ],
   "source": [
    "# 여기에 코드를 작성하세요.\n",
    "def colors(x):\n",
    "    color={'녹색':'노란색','노란색':'빨간색','빨간색':'녹색'}\n",
    "    return color[x]\n",
    "print(colors('녹색'))\n",
    "print(colors('노란색'))\n",
    "print(colors('빨간색'))"
   ]
  },
  {
   "cell_type": "markdown",
   "metadata": {},
   "source": [
    "### 문제5\n",
    "\n",
    ">두 수를 입력받아 두 수의 최대공약수와 최소공배수를 반환하는 함수, solution을 완성해 보세요. 배열의 맨 앞에 최대공약수, 그다음 최소공배수를 넣어 반환하면 됩니다. \n",
    "\n",
    ">예를 들어 두 수 3, 12의 최대공약수는 3, 최소공배수는 12이므로 solution(3, 12)는 [3, 12]를 반환해야 합니다. "
   ]
  },
  {
   "cell_type": "code",
   "execution_count": 13,
   "metadata": {},
   "outputs": [
    {
     "name": "stdout",
     "output_type": "stream",
     "text": [
      "[3, 12]\n",
      "[1, 24]\n",
      "[2, 12]\n"
     ]
    }
   ],
   "source": [
    "# 여기에 코드를 작성하세요\n",
    "def solution(a,b):\n",
    "    result1=0\n",
    "    result2=0\n",
    "    if a>b:\n",
    "        a,b=b,a\n",
    "    for i in range(1,b+1): #최대 공약수\n",
    "        if a%i==0 and b%i==0:\n",
    "            result1=i\n",
    "    for k in range(1,a*b+1): #range 범위 생각해서 +1 까먹지말자\n",
    "        if k%a==0 and k%b==0:\n",
    "            result2=k\n",
    "            break#최소 공배수\n",
    "    return [result1,result2]\n",
    "\n",
    "print(solution(3,12))\n",
    "print(solution(3,8))\n",
    "print(solution(4,6))\n"
   ]
  }
 ],
 "metadata": {
  "kernelspec": {
   "display_name": "Python 3",
   "language": "python",
   "name": "python3"
  },
  "language_info": {
   "codemirror_mode": {
    "name": "ipython",
    "version": 3
   },
   "file_extension": ".py",
   "mimetype": "text/x-python",
   "name": "python",
   "nbconvert_exporter": "python",
   "pygments_lexer": "ipython3",
   "version": "3.7.1"
  }
 },
 "nbformat": 4,
 "nbformat_minor": 2
}
