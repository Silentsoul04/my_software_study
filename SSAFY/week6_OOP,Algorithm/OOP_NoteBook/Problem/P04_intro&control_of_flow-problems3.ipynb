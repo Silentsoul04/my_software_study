{
 "cells": [
  {
   "cell_type": "markdown",
   "metadata": {},
   "source": [
    "## Intro&Control_of_flow-문제3\n"
   ]
  },
  {
   "cell_type": "markdown",
   "metadata": {},
   "source": [
    "### 문제1\n",
    "\n",
    ">다음 소스 코드를 완성하여 1부터 100까지의 숫자를 출력하면서 2의 배수일 때는 'Fizz', 11의 배수일 때는 'Buzz', 2와 11의 공배수일 때는 'FizzBuzz'가 출력되게 만드세요."
   ]
  },
  {
   "cell_type": "code",
   "execution_count": 1,
   "metadata": {},
   "outputs": [
    {
     "name": "stdout",
     "output_type": "stream",
     "text": [
      "2 Fizz\n",
      "4 Fizz\n",
      "6 Fizz\n",
      "8 Fizz\n",
      "10 Fizz\n",
      "11 Buzz\n",
      "12 Fizz\n",
      "14 Fizz\n",
      "16 Fizz\n",
      "18 Fizz\n",
      "20 Fizz\n",
      "22 FizzBuzz\n",
      "24 Fizz\n",
      "26 Fizz\n",
      "28 Fizz\n",
      "30 Fizz\n",
      "32 Fizz\n",
      "33 Buzz\n",
      "34 Fizz\n",
      "36 Fizz\n",
      "38 Fizz\n",
      "40 Fizz\n",
      "42 Fizz\n",
      "44 FizzBuzz\n",
      "46 Fizz\n",
      "48 Fizz\n",
      "50 Fizz\n",
      "52 Fizz\n",
      "54 Fizz\n",
      "55 Buzz\n",
      "56 Fizz\n",
      "58 Fizz\n",
      "60 Fizz\n",
      "62 Fizz\n",
      "64 Fizz\n",
      "66 FizzBuzz\n",
      "68 Fizz\n",
      "70 Fizz\n",
      "72 Fizz\n",
      "74 Fizz\n",
      "76 Fizz\n",
      "77 Buzz\n",
      "78 Fizz\n",
      "80 Fizz\n",
      "82 Fizz\n",
      "84 Fizz\n",
      "86 Fizz\n",
      "88 FizzBuzz\n",
      "90 Fizz\n",
      "92 Fizz\n",
      "94 Fizz\n",
      "96 Fizz\n",
      "98 Fizz\n",
      "99 Buzz\n",
      "100 Fizz\n"
     ]
    }
   ],
   "source": [
    "#여기에 코드를 작성하세요.\n",
    "for i in range(1,101):\n",
    "    if i % 22 == 0:\n",
    "        print(f'{i} FizzBuzz')\n",
    "    elif i % 2 == 0:\n",
    "        print(f'{i} Fizz')\n",
    "    elif i % 11 ==0:\n",
    "        print(f'{i} Buzz')"
   ]
  },
  {
   "cell_type": "markdown",
   "metadata": {},
   "source": [
    "### 문제2\n",
    "\n",
    ">사용자로부터 세 개의 숫자를 입력 받은 후 가장 큰 숫자를 출력하세요."
   ]
  },
  {
   "cell_type": "code",
   "execution_count": 6,
   "metadata": {},
   "outputs": [
    {
     "name": "stdout",
     "output_type": "stream",
     "text": [
      "10 40 50\n",
      "50\n"
     ]
    }
   ],
   "source": [
    "#여기에 코드를 작성하세요.\n",
    "def my_max(*arg):\n",
    "    result =0\n",
    "    for i in arg:\n",
    "        if result < i:\n",
    "            result = i\n",
    "    return result\n",
    "    \n",
    "a,b,c=tuple(map(int,input().split()))\n",
    "print(my_max(a,b,c))"
   ]
  },
  {
   "cell_type": "markdown",
   "metadata": {},
   "source": [
    "### 문제3\n",
    "\n",
    "> 다음은 학생들의 혈액형(A, B, AB, O)에 대한 데이터입니다. 각 혈액형 별 학생수의 합계를 구하세요."
   ]
  },
  {
   "cell_type": "code",
   "execution_count": null,
   "metadata": {},
   "outputs": [],
   "source": [
    "blood_types = ['A', 'B', 'A', 'O', 'AB', 'AB', 'O', 'A', 'B', 'O', 'B', 'AB']"
   ]
  },
  {
   "cell_type": "code",
   "execution_count": 12,
   "metadata": {},
   "outputs": [
    {
     "name": "stdout",
     "output_type": "stream",
     "text": [
      "A형 학생 수 3명\n",
      "B형 학생 수 3명\n",
      "O형 학생 수 3명\n",
      "AB형 학생 수 3명\n"
     ]
    }
   ],
   "source": [
    "#여기에 코드를 작성하세요.\n",
    "blood_types = ['A', 'B', 'A', 'O', 'AB', 'AB', 'O', 'A', 'B', 'O', 'B', 'AB']\n",
    "dic = {}\n",
    "for i in blood_types:\n",
    "    if i in dic:\n",
    "        dic[i]+=1\n",
    "    if i not in dic:\n",
    "        dic[i] =1\n",
    "for k,v in dic.items():\n",
    "    print(f'{k}형 학생 수 {v}명')"
   ]
  },
  {
   "cell_type": "markdown",
   "metadata": {},
   "source": [
    "### 문제4\n",
    "\n",
    ">다음 리스트의 요소값 중에서 중복되는 값만 뽑아서 새로운 리스트로 옮기고 요소의 개수를 출력하세요. \n",
    "\n",
    ">some_lists = ['a', 'b', 'c', 'b', 'd', 'm', 'n', 'n']"
   ]
  },
  {
   "cell_type": "code",
   "execution_count": 15,
   "metadata": {},
   "outputs": [
    {
     "name": "stdout",
     "output_type": "stream",
     "text": [
      "['b', 'n'] 2\n"
     ]
    }
   ],
   "source": [
    "#여기에 코드를 작성하세요.\n",
    "some_lists = ['a', 'b', 'c', 'b', 'd', 'm', 'n', 'n']\n",
    "result={}\n",
    "real_result=[]\n",
    "for i in some_lists:\n",
    "    if i in result:\n",
    "        result[i]+=1\n",
    "    if i not in result:\n",
    "        result[i]=1\n",
    "for k,v in result.items():\n",
    "    if v>1:\n",
    "        real_result.append(k)\n",
    "print(f'{real_result} {len(real_result)}')"
   ]
  },
  {
   "cell_type": "markdown",
   "metadata": {},
   "source": [
    "### 문제5\n",
    "\n",
    ">표준 입력으로 국어, 영어, 수학, 과학 점수가 입력됩니다. 네 과목의 평균 점수가 80점 이상일 때 합격이라고 정했습니다. 평균 점수에 따라 '합격', '불합격'을 출력하는 프로그램을 만드세요. \n",
    "단, 점수는 0점부터 100점까지만 입력받을 수 있으며 범위를 벗어났다면 '잘못된 점수'를 출력하고 합격, 불합격 여부는 출력하지 않아야 합니다. "
   ]
  },
  {
   "cell_type": "code",
   "execution_count": 19,
   "metadata": {},
   "outputs": [
    {
     "name": "stdout",
     "output_type": "stream",
     "text": [
      "70 50 40 100\n",
      "불합격\n"
     ]
    }
   ],
   "source": [
    "#여기에 코드를 작성하세요.\n",
    "def my_avg(li):\n",
    "    result = 0\n",
    "    for i in li:\n",
    "        result += i\n",
    "    return result/len(li)\n",
    "\n",
    "scores=list(map(int,input().split()))\n",
    "\n",
    "for i in scores:\n",
    "    if i>100 or i<0:\n",
    "        print('잘못된 점수')\n",
    "        break\n",
    "else:\n",
    "    if my_avg(scores)>=80:\n",
    "        print('합격')\n",
    "    else:\n",
    "        print('불합격')"
   ]
  }
 ],
 "metadata": {
  "kernelspec": {
   "display_name": "Python 3",
   "language": "python",
   "name": "python3"
  },
  "language_info": {
   "codemirror_mode": {
    "name": "ipython",
    "version": 3
   },
   "file_extension": ".py",
   "mimetype": "text/x-python",
   "name": "python",
   "nbconvert_exporter": "python",
   "pygments_lexer": "ipython3",
   "version": "3.7.1"
  }
 },
 "nbformat": 4,
 "nbformat_minor": 2
}
