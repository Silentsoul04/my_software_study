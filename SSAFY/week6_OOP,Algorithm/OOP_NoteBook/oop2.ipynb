{
 "cells": [
  {
   "cell_type": "code",
   "execution_count": 1,
   "metadata": {},
   "outputs": [],
   "source": [
    "from IPython.display import IFrame"
   ]
  },
  {
   "cell_type": "code",
   "execution_count": 37,
   "metadata": {},
   "outputs": [
    {
     "name": "stdout",
     "output_type": "stream",
     "text": [
      "\"\"\n"
     ]
    }
   ],
   "source": [
    "print('\"\"')"
   ]
  },
  {
   "cell_type": "markdown",
   "metadata": {},
   "source": [
    "# OOP with Python\n",
    "\n",
    "## 용어 정리\n",
    "\n",
    "```python\n",
    "class Person:                      #=> 클래스 정의(선언) : 클래스 객체 생성\n",
    "    name = '호날두'                  #=> 멤버 변수(데이터 어트리뷰트)\n",
    "    def greeting(self):            #=> 멤버 메서드(메서드)\n",
    "        print(f'{self.name}')\n",
    "```\n",
    "    \n",
    "    \n",
    "```python\n",
    "iu = Person()       # 인스턴스 객체 생성\n",
    "daniel = Person()   # 인스턴스 객체 생성\n",
    "iu.name             # 데이터 어트리뷰트 호출\n",
    "iu.greeting()       # 메서드 호출\n",
    "```"
   ]
  },
  {
   "cell_type": "code",
   "execution_count": null,
   "metadata": {},
   "outputs": [],
   "source": [
    "name ='?'\n",
    "class Person:                   \n",
    "    name = '호날두' \n",
    "    \n",
    "    def greeting(self):         \n",
    "        print(f'{self.name}')\n",
    "        print(f'{name}')\n",
    "\n",
    "cr=Person()\n",
    "cr.greeting()"
   ]
  },
  {
   "cell_type": "markdown",
   "metadata": {},
   "source": [
    "* 클래스와 인스턴스간의 관계를 확인해봅시다."
   ]
  },
  {
   "cell_type": "code",
   "execution_count": null,
   "metadata": {},
   "outputs": [],
   "source": [
    "#시험문제\n",
    "class Person:\n",
    "    population = 0\n",
    "    \n",
    "    def __init__(self, name):\n",
    "        self.name = name\n",
    "        self.population +=1 #얘는 인스턴스 변수만 가지니까, self.population(얘는 왼쪽 항이 실행 되어서 원래 없던 인스턴스 변수가 만들어 진거임) = self.population(인스턴스 변수에서 찾아보려했는데 클래스 변수를 가져왔음) + 1의 줄임말임 그래서 10 더하기 1이 된거임\n",
    "        \n",
    "Person.population = 10 #이것 때문에 population이 0에서 10이된다.\n",
    "\n",
    "cr = Person('호날두')\n",
    "me = Person('john')\n",
    "you = Person('Donghun')\n",
    "\n",
    "print(Person.population)\n",
    "print(cr.population)\n",
    "print(me.population)\n",
    "print(you.population)\n"
   ]
  },
  {
   "cell_type": "markdown",
   "metadata": {},
   "source": [
    "##  `self` : 인스턴스 객체 자기자신\n",
    "\n",
    "* C++ 혹은 자바에서의 this 키워드와 동일함. \n",
    "\n",
    "* 특별한 상황을 제외하고는 무조건 메서드에서 `self`를 첫번째 인자로 설정한다.\n",
    "\n",
    "* 메서드는 인스턴스 객체가 함수의 첫번째 인자로 전달되도록 되어있다."
   ]
  },
  {
   "cell_type": "code",
   "execution_count": null,
   "metadata": {},
   "outputs": [],
   "source": [
    "# iu를 다시 인사시켜봅시다.\n",
    "class Person:\n",
    "    def __init__(self,name,age):\n",
    "        self.name=name\n",
    "        self.age=age\n",
    "    \n",
    "    def greeting(self,a):\n",
    "        return f'{self.name}이 {a} 인사합니다'\n",
    "    \n",
    "iu=Person('이지은','27')\n",
    "iu.greeting('\"얍\" 하고')"
   ]
  },
  {
   "cell_type": "code",
   "execution_count": null,
   "metadata": {},
   "outputs": [],
   "source": [
    "# 다르게 인사를 시킬 수도 있습니다.\n",
    "# 실제로 이렇게 호출이 되는 것과 동일하기에 반드시 self로서 인스턴스 자기자신을 표현해야합니다.\n"
   ]
  },
  {
   "cell_type": "markdown",
   "metadata": {},
   "source": [
    "* 클래스 선언부 내부에서도 반드시 self를 통해 데이터 어트리뷰트에 접근 해야 합니다."
   ]
  },
  {
   "cell_type": "code",
   "execution_count": null,
   "metadata": {},
   "outputs": [],
   "source": [
    "# 예시를 봅시다.\n",
    "name = '?'\n",
    "\n",
    "class Person:\n",
    "    name = '호날두'\n",
    "    \n",
    "    def greeting(self):\n",
    "        print(f'{self.name}')\n",
    "cr=Person()\n",
    "cr.greeting()"
   ]
  },
  {
   "cell_type": "code",
   "execution_count": null,
   "metadata": {},
   "outputs": [],
   "source": []
  },
  {
   "cell_type": "markdown",
   "metadata": {},
   "source": [
    "## 클래스-인스턴스간의 이름공간\n",
    "\n",
    "* 클래스를 정의하면, 클래스 객체가 생성되고 해당되는 이름 공간이 생성된다. \n",
    "\n",
    "* 인스턴스를 만들게 되면, 인스턴스 객체가 생성되고 해당되는 이름 공간이 생성된다. \n",
    "\n",
    "* 인스턴스의 어트리뷰트가 변경되면, 변경된 데이터를 인스턴스 객체 이름 공간에 저장한다.\n",
    "\n",
    "* 즉, 인스턴스에서 특정한 어트리뷰트에 접근하게 되면 인스턴스 -> 클래스 순으로 탐색을 한다."
   ]
  },
  {
   "cell_type": "code",
   "execution_count": null,
   "metadata": {},
   "outputs": [],
   "source": []
  },
  {
   "cell_type": "code",
   "execution_count": null,
   "metadata": {},
   "outputs": [],
   "source": [
    "# 아래의 Python Tutor를 통해 순차적으로 확인해봅시다.\n",
    "IFrame('https://goo.gl/ZgNaXB', width='100%', height='300px')"
   ]
  },
  {
   "cell_type": "markdown",
   "metadata": {},
   "source": [
    "## 생성자 / 소멸자\n",
    "\n",
    "* 생성자는 인스턴스 객체가 생성될 때 호출되는 함수이며, 소멸자는 객체가 소멸되는 과정에서 호출되는 함수입니다.\n",
    "\n",
    "```python\n",
    "def __init__(self):\n",
    "    print('생성될 때 자동으로 호출되는 메서드입니다.')\n",
    "    \n",
    "def __del__(self):\n",
    "    print('소멸될 때 자동으로 호출되는 메서드입니다.')\n",
    "```\n",
    "\n",
    "```\n",
    "__someting__\n",
    "```\n",
    "\n",
    "위의 형식처럼 양쪽에 언더스코어가 있는 메서드를 스페셜 메서드 혹은 매직 메서드라고 불립니다."
   ]
  },
  {
   "cell_type": "code",
   "execution_count": null,
   "metadata": {},
   "outputs": [],
   "source": [
    "class Character:\n",
    "    def __init__(self,name,power,hp,mp):\n",
    "        self.name=name\n",
    "        self.power=power\n",
    "        self.hp=hp\n",
    "        self.mp=mp\n",
    "        print(f'{self.name} 캐릭터가 생성되었습니다.')\n",
    "    \n",
    "    def __del__(self):\n",
    "        print(f'{self.name} 캐릭터가 삭제되었습니다.')\n",
    "\n",
    "new=Character('쑥덕쑥덕','5','50','50')\n",
    "\n",
    "del new"
   ]
  },
  {
   "cell_type": "code",
   "execution_count": null,
   "metadata": {},
   "outputs": [],
   "source": [
    "#  생성시켜봅시다.\n"
   ]
  },
  {
   "cell_type": "code",
   "execution_count": null,
   "metadata": {},
   "outputs": [],
   "source": [
    "# 소멸시켜봅시다.\n"
   ]
  },
  {
   "cell_type": "markdown",
   "metadata": {},
   "source": [
    "* 생성자 역시 메소드이기 때문에 추가적인 인자를 받을 수 있습니다."
   ]
  },
  {
   "cell_type": "code",
   "execution_count": null,
   "metadata": {},
   "outputs": [],
   "source": [
    "# 생성자에서 이름을 추가적으로 받아서 출력해봅시다.\n",
    "class Character:\n",
    "    def __init__(self,name,power,hp,mp):\n",
    "        self.name=name\n",
    "        self.power=power\n",
    "        self.hp=hp\n",
    "        self.mp=mp\n",
    "        print(f'{self.name} 캐릭터가 생성되었습니다.')\n",
    "    \n",
    "    def __del__(self):\n",
    "        print(f'{self.name} 캐릭터가 삭제되었습니다.')\n",
    "        \n",
    "new=Character('쑥덕쑥덕',100,50,50)\n",
    "new=Character('도라에몽',100,50,50)"
   ]
  },
  {
   "cell_type": "code",
   "execution_count": null,
   "metadata": {},
   "outputs": [],
   "source": [
    "# 홍길동이라는 이름을 가진 hong 을 만들어봅시다.\n",
    "class Person:\n",
    "    def __init__(self, name):\n",
    "        self.name = name\n",
    "        print(f'{self.name}이 생성되었습니다.')\n",
    "    def __del__(self):\n",
    "        print(f'{self.name}이 죽었습니다.')\n",
    "cr = Person('호날두')\n",
    "cr = Person('우리흥')"
   ]
  },
  {
   "cell_type": "markdown",
   "metadata": {},
   "source": [
    "* 아래와 같이 모두 사용할 수 있습니다!\n",
    "\n",
    "```python\n",
    "def __init__(self, parameter1, parameter2):\n",
    "    print('생성될 때 자동으로 호출되는 메서드입니다.')\n",
    "    print(parameter1)\n",
    "\n",
    "def __init__(self, *args):\n",
    "    print('생성될 때 자동으로 호출되는 메서드입니다.')\n",
    "\n",
    "def __init__(self, **kwagrs):\n",
    "    print('생성될 때 자동으로 호출되는 메서드입니다.')\n",
    "```"
   ]
  },
  {
   "cell_type": "markdown",
   "metadata": {},
   "source": [
    "* 따라서, 생성자는 값을 초기화하는 과정에서 자주 활용됩니다. \n",
    "\n",
    "* 아래의 클래스 변수와 인스턴스 변수를 통해 확인해보겠습니다."
   ]
  },
  {
   "cell_type": "markdown",
   "metadata": {},
   "source": [
    "## 클래스 변수 / 인스턴스 변수\n",
    "\n",
    "```python\n",
    "class Person:\n",
    "    population = 0              # 클래스 변수 : 모든 인스턴스가 공유함.\n",
    "    \n",
    "    def __init__(self, name):   \n",
    "        self.name = name        # 인스턴스 변수 : 인스턴스별로 각각 가지는 변수\n",
    "```        "
   ]
  },
  {
   "cell_type": "code",
   "execution_count": null,
   "metadata": {},
   "outputs": [],
   "source": [
    "# 위의 생성자와 인사하는 메소드를 만들어봅시다. \n",
    "class Person:\n",
    "    name = \"john\"            # 클래스 변수 : 모든 인스턴스가 공유함.\n",
    "\n",
    "    def __init__(self):   \n",
    "        # 인스턴스 변수 : 인스턴스별로 각각 가지는 변수\n",
    "        print('생성될 때 자동으로 호출되는 메서드입니다.')\n",
    "        \n",
    "    def __del__(self):\n",
    "        print('소멸될 때 자동으로 호출되는 메서드입니다.')\n",
    "        \n",
    "Person()"
   ]
  },
  {
   "cell_type": "code",
   "execution_count": null,
   "metadata": {},
   "outputs": [],
   "source": [
    "# 본인의 이름을 가진 인스턴스를 만들어봅시다.\n",
    "Person()"
   ]
  },
  {
   "cell_type": "code",
   "execution_count": null,
   "metadata": {},
   "outputs": [],
   "source": [
    "# 이름을 출력해봅시다.\n"
   ]
  },
  {
   "cell_type": "code",
   "execution_count": null,
   "metadata": {},
   "outputs": [],
   "source": [
    "# 옆자리 친구의 이름을 가진 인스턴스를 만들어봅시다.\n"
   ]
  },
  {
   "cell_type": "code",
   "execution_count": null,
   "metadata": {},
   "outputs": [],
   "source": [
    "# 이름을 출력해봅시다.\n"
   ]
  },
  {
   "cell_type": "code",
   "execution_count": null,
   "metadata": {},
   "outputs": [],
   "source": [
    "# population을 출력해봅시다.\n",
    "class Person:\n",
    "    name = \"john\"  \n",
    "    population = 0\n",
    "    def __init__(self,name=\"no name\"): \n",
    "        self.name = name\n",
    "        Person.population += 1\n",
    "        print(f'인구가 증가하여 {Person.population}명이 되었습니다.')\n",
    "        \n",
    "    def __del__(self):\n",
    "        Person.population -= 1\n",
    "        print(f'인구가 감소하여 {Person.population}명이 되었습니다.')\n",
    "        \n",
    "    def greeting(self):\n",
    "        print(f'안녕하세요 {self.name} 저는입니다.')\n",
    "\n",
    "Person.greeting(abc)"
   ]
  },
  {
   "cell_type": "code",
   "execution_count": null,
   "metadata": {},
   "outputs": [],
   "source": [
    "# 물론, 인스턴스도 접근 가능합니다. 왜일까요?!\n",
    "\n",
    "# 이름공간"
   ]
  },
  {
   "cell_type": "markdown",
   "metadata": {},
   "source": [
    "## 정적 메서드 / 클래스 메서드\n",
    "\n",
    "* 메서드 호출을 인스턴스가 아닌 클래스가 할 수 있도록 구성할 수 있습니다. \n",
    "\n",
    "* 이때 활용되는게 정적 메서드 혹은 클래스 메서드입니다.\n",
    "\n",
    "* 정적 메소드는 객체가 전달되지 않은 형태이며, 클래스 메서드는 인자로 클래스를 넘겨준다."
   ]
  },
  {
   "cell_type": "code",
   "execution_count": null,
   "metadata": {
    "scrolled": true
   },
   "outputs": [],
   "source": [
    "# Person 클래스가 인사할 수 있는지 확인해보겠습니다.\n"
   ]
  },
  {
   "cell_type": "code",
   "execution_count": null,
   "metadata": {},
   "outputs": [],
   "source": [
    "# 이번에는 Dog class를 만들어보겠습니다.\n",
    "# 클래스 변수 num_of_dogs 통해 개가 생성될 때마다 증가시키도록 하겠습니다. \n",
    "# 개들은 각자의 이름과 나이를 가지고 있습니다. \n",
    "# 그리고 bark() 메서드를 통해 짖을 수 있습니다. \n",
    "class Dog:\n",
    "    num_of_dogs = 0\n",
    "    name='yap'\n",
    "    age=20\n",
    "    def __init__(self, name, age):\n",
    "        self.name = name\n",
    "        self.age = age\n",
    "        Dog.num_of_dogs += 1\n",
    "    def bark(self):\n",
    "        print(f'멍멍, 저는 {self.name}, {self.age}살 입니다.')\n",
    "        \n",
    "puppy = Dog('멍멍이','1살')\n",
    "\n",
    "\n",
    "puppy.bark()"
   ]
  },
  {
   "cell_type": "code",
   "execution_count": null,
   "metadata": {},
   "outputs": [],
   "source": [
    "# 각각 이름과 나이가 다른 인스턴스를 3개 만들어봅시다.\n"
   ]
  },
  {
   "cell_type": "markdown",
   "metadata": {},
   "source": [
    "* staticmethod는 다음과 같이 정의됩니다.\n",
    "\n",
    "```python\n",
    "\n",
    "@staticmethod\n",
    "def methodname():\n",
    "    codeblock\n",
    "```"
   ]
  },
  {
   "cell_type": "code",
   "execution_count": null,
   "metadata": {},
   "outputs": [],
   "source": [
    "# 단순한 static method를 만들어보겠습니다.\n",
    "class Dog:\n",
    "    num_of_dogs = 0\n",
    "    \n",
    "    def __init__(self, name, age):\n",
    "        self.name = name\n",
    "        self.age = age\n",
    "        Dog.num_of_dogs +=1\n",
    "\n",
    "    def bark(self):\n",
    "        print(f'멍멍, 저는 {self.name}, {self.age}살 입니다.')\n",
    "        \n",
    "    @staticmethod #만약에 이게 없으면 puppy.info()가 Error가 뜬다.\n",
    "    def info(): #self를 넣지 않은 메소드 이런 애들은 static 메소드이다. 위에다가 @staticmethod라고 써주는 것이 관례이다.(없어도 됨)\n",
    "        print(\"강아지입니다.\")\n",
    "\n",
    "puppy = Dog('멍멍이','1살')\n",
    "poodle = Dog('보송이','3살')\n",
    "nurung = Dog('누렁이','5살')\n",
    "\n",
    "print(Dog.info())\n",
    "print(puppy.info())"
   ]
  },
  {
   "cell_type": "code",
   "execution_count": null,
   "metadata": {},
   "outputs": [],
   "source": [
    "# 3마리를 만들어보고,\n"
   ]
  },
  {
   "cell_type": "code",
   "execution_count": null,
   "metadata": {},
   "outputs": [],
   "source": [
    "class Dog:\n",
    "    num_of_dogs = 0\n",
    "    \n",
    "    def __init__(self, name, age):\n",
    "        self.name = name\n",
    "        self.age = age\n",
    "        Dog.num_of_dogs +=1\n",
    "\n",
    "    def bark(self):\n",
    "        print(f'멍멍, 저는 {self.name}, {self.age}살 입니다.')\n",
    "        \n",
    "    @staticmethod #@는 데코레이터라고 한다.\n",
    "    def info(): #인자가 필요없다.\n",
    "        print(\"강아지입니다.\")\n",
    "        \n",
    "    @classmethod #클래스 메서드가 있으면 Dog.count()를 불러도 앞에 클래스 인자를 자동으로 생성해줘서 Dog.count(Dog)로 실행이 된다.\n",
    "    def count(cls): #class는 예약어라 못 쓰니까 cls로 쓴거다. 사실 뭐가 되든 상관없다. 클래스 메서드이다. \n",
    "        #print(f'{Dog.num_of_dogs}'')라고 접근을 이전에 했었다. 하지만 이젠 다르다 !\n",
    "        print(f'{cls.num_of_dogs}마리 생존중')\n",
    "        \n",
    "puppy = Dog('멍멍이','1살')\n",
    "poodle = Dog('보송이','3살')\n",
    "nurung = Dog('누렁이','5살')\n",
    "\n",
    "puppy.bark()\n",
    "print(poodle.name)\n",
    "Dog.count() #내용물 없어도 상관없다. 파이썬이 알아서 classmethod를 찾아서 채워준다."
   ]
  },
  {
   "cell_type": "code",
   "execution_count": null,
   "metadata": {},
   "outputs": [],
   "source": [
    "class Dog:\n",
    "    nums=0\n",
    "    name='개'\n",
    "    def __init__(self, name, age):\n",
    "        self.age = age\n",
    "        self.name = name\n",
    "        Dog.nums += 1\n",
    "    \n",
    "    def bark(self):\n",
    "        print(f'멍멍 나는 {self.name}이고, {self.age}살 입니다.')\n",
    "    @staticmethod    \n",
    "    def info():\n",
    "        print(f'이 친구는 강아지입니다.')\n",
    "    @classmethod\n",
    "    def count(cls):\n",
    "        print(f'총 강아지 수는 {cls.name}마리 입니다.')\n",
    "        \n",
    "york=Dog('요크',4)\n",
    "poodle=Dog('푸들',7)\n",
    "maltiz=Dog('말티즈',2)\n",
    "\n",
    "york.bark()\n",
    "poodle.bark()\n",
    "maltiz.bark()\n",
    "#Dog.bark()\n",
    "Dog.bark(york)\n",
    "#york.info()\n",
    "#poodle.info()\n",
    "#maltiz.info()\n",
    "Dog.info()\n",
    "york.info()\n",
    "\n",
    "york.count() #된다.\n",
    "#Dog.count(york) \n",
    "#Dog로 클래스를 첫번째 인자로 집어넣었는데 york 하나 더 있네? \n",
    "#근데 걔는 넣을 곳이 없다. 그래서 에러\n",
    "Dog.count()"
   ]
  },
  {
   "cell_type": "markdown",
   "metadata": {},
   "source": [
    "* classmethod는 다음과 같이 정의됩니다.\n",
    "\n",
    "```python\n",
    "\n",
    "@classmethod\n",
    "def methodname(cls):\n",
    "    codeblock\n",
    "```"
   ]
  },
  {
   "cell_type": "code",
   "execution_count": null,
   "metadata": {},
   "outputs": [],
   "source": [
    "# 개의 숫자를 출력하는 classmethod를 만들어보겠습니다.\n",
    "class Dogs:\n",
    "    num = 3\n",
    "    \n",
    "    @classmethod\n",
    "    def count(self):\n",
    "        print(f'{self.num}')\n",
    "dog=Dogs()\n",
    "dog.count()\n",
    "Dogs.count()"
   ]
  },
  {
   "cell_type": "code",
   "execution_count": null,
   "metadata": {},
   "outputs": [],
   "source": [
    "# 3마리를 만들어보고,\n"
   ]
  },
  {
   "cell_type": "code",
   "execution_count": 3,
   "metadata": {
    "scrolled": true
   },
   "outputs": [],
   "source": [
    "# 아래에 코드를 작성해주세요.\n",
    "class Calculator:\n",
    "    \n",
    "    def add(self,a, b):\n",
    "        return a + b\n",
    "    \n",
    "    @staticmethod\n",
    "    def sub(a, b):\n",
    "        return a - b"
   ]
  },
  {
   "cell_type": "code",
   "execution_count": 4,
   "metadata": {},
   "outputs": [
    {
     "data": {
      "text/plain": [
       "-2"
      ]
     },
     "execution_count": 4,
     "metadata": {},
     "output_type": "execute_result"
    }
   ],
   "source": [
    "cal=Calculator()\n",
    "cal.add(3,5)\n",
    "cal.sub(3,5)"
   ]
  },
  {
   "cell_type": "markdown",
   "metadata": {},
   "source": [
    "## 실습문제 - 정적 메소드\n",
    "\n",
    "> 계산기 class인 `Calculator`를 만들어봅시다.\n",
    "\n",
    "* 정적 메소드 : 두 수를 받아서 각각의 연산을 한 결과를 반환(return)\n",
    "\n",
    "    1. `add()` : 덧셈\n",
    "    \n",
    "    2. `sub()` : 뺄셈 \n",
    "    \n",
    "    3. `mul()` : 곱셈\n",
    "    \n",
    "    4. `div()` : 나눗셈\n"
   ]
  },
  {
   "cell_type": "code",
   "execution_count": null,
   "metadata": {},
   "outputs": [],
   "source": [
    "# 아래에 코드를 작성해주세요.\n",
    "class Calculator:\n",
    "    \n",
    "    def add(a, b):\n",
    "        return a + b\n",
    "    \n",
    "    @staticmethod\n",
    "    def sub(a, b):\n",
    "        return a - b"
   ]
  },
  {
   "cell_type": "code",
   "execution_count": null,
   "metadata": {},
   "outputs": [],
   "source": [
    "Calculator.add(5, 3)\n",
    "Calculator.sub(5, 3)\n",
    "\n",
    "cal = Calculator()\n",
    "cal.add(5,3)\n",
    "cal.sub(5, 3)"
   ]
  },
  {
   "cell_type": "markdown",
   "metadata": {},
   "source": [
    "## 실습문제 - 종합1\n",
    "\n",
    "> 사실 이전에 작성한 Mylist는 완벽하지 않았습니다. \n",
    ">\n",
    "> 한번 제대로 된 자료구조를 만들어보겠습니다. \n",
    ">\n",
    "> `Stack` 클래스를 간략하게 구현해봅시다.\n",
    "\n",
    "> [Stack](https://ko.wikipedia.org/wiki/%EC%8A%A4%ED%83%9D) : 스택은 LIFO(Last in First Out)으로 구조화된 자료구조를 뜻합니다.\n",
    "\n",
    "1. `empty()`: 스택이 비었다면 참을 주고,그렇지 않다면 거짓이 된다.\n",
    "\n",
    "2. `top()`: 스택의 가장 마지막 데이터를 넘겨준다. 스택이 비었다면 None을 리턴해주세요.\n",
    "\n",
    "3. `pop()`: 스택의 가장 마지막 데이터의 값을 넘겨주고 해당 데이터를 삭제한다. 스택이 비었다면 None을 리턴해주세요.\n",
    "\n",
    "4. `push()`: 스택의 가장 마지막 데이터 뒤에 값을 추가한다. 리턴값 없음\n",
    "\n",
    "**다 완료하신 분들은 __repr__을 통해 예쁘게 출력까지 해봅시다.**"
   ]
  },
  {
   "cell_type": "code",
   "execution_count": null,
   "metadata": {},
   "outputs": [],
   "source": [
    "# 여기에 코드를 작성해주세요.\n"
   ]
  },
  {
   "cell_type": "code",
   "execution_count": null,
   "metadata": {},
   "outputs": [],
   "source": [
    "# 인스턴스를 하나 만들고 메소드 조작을 해봅시다.\n"
   ]
  },
  {
   "cell_type": "code",
   "execution_count": null,
   "metadata": {},
   "outputs": [],
   "source": []
  },
  {
   "cell_type": "code",
   "execution_count": null,
   "metadata": {},
   "outputs": [],
   "source": []
  },
  {
   "cell_type": "code",
   "execution_count": null,
   "metadata": {},
   "outputs": [],
   "source": []
  },
  {
   "cell_type": "markdown",
   "metadata": {},
   "source": [
    "## 연산자 오버라이딩(중복 정의)\n",
    "\n",
    "* 파이썬에 기본적으로 정의된 연산자를 직접적으로 정의하여 활용할 수 있습니다. \n",
    "\n",
    "* 몇가지만 소개하고 활용해봅시다.\n",
    "\n",
    "```\n",
    "+  __add__   \n",
    "-  __sub__\n",
    "*  __mul__\n",
    "<  __lt__\n",
    "<= __le__\n",
    "== __eq__\n",
    "!= __ne__\n",
    ">= __ge__\n",
    ">  __gt__\n",
    "```"
   ]
  },
  {
   "cell_type": "code",
   "execution_count": null,
   "metadata": {},
   "outputs": [],
   "source": [
    "# 사람과 사람을 같은지 비교하면, 이는 나이가 같은지 비교한 결과를 반환하도록 만들어봅시다.\n"
   ]
  },
  {
   "cell_type": "code",
   "execution_count": null,
   "metadata": {},
   "outputs": [],
   "source": [
    "# 연산자를 호출해봅시다.\n"
   ]
  },
  {
   "cell_type": "code",
   "execution_count": null,
   "metadata": {},
   "outputs": [],
   "source": [
    "# 원하는 연산자를 사람과 사람을 비교해보세요."
   ]
  },
  {
   "cell_type": "code",
   "execution_count": null,
   "metadata": {},
   "outputs": [],
   "source": [
    "# 파이썬 내부를 살펴봅시다.\n",
    "\n",
    "# 이렇게 + 연산자가 서로 다르게 활용될 수 있는 이유는 파이썬 내부적으로 각각 다른 클래스마다 다른 정의가 있기 때문입니다."
   ]
  },
  {
   "cell_type": "markdown",
   "metadata": {},
   "source": [
    "# 상속 \n",
    "\n",
    "## 기초\n",
    "\n",
    "* 클래스에서 가장 큰 특징은 '상속' 기능을 가지고 있다는 것이다. \n",
    "\n",
    "* 부모 클래스의 모든 속성이 자식 클래스에게 상속 되므로 코드재사용성이 높아집니다.\n",
    "\n",
    "```python\n",
    "class DerivedClassName(BaseClassName):\n",
    "    code block\n",
    "```"
   ]
  },
  {
   "cell_type": "code",
   "execution_count": null,
   "metadata": {},
   "outputs": [],
   "source": [
    "# 인사만 할 수 있는 간단한 사람 클래스를 만들어봅시다.\n"
   ]
  },
  {
   "cell_type": "code",
   "execution_count": null,
   "metadata": {},
   "outputs": [],
   "source": [
    "# 사람 클래스를 상속받아 학생 클래스를 만들어봅시다.\n"
   ]
  },
  {
   "cell_type": "code",
   "execution_count": null,
   "metadata": {},
   "outputs": [],
   "source": [
    "# 학생을 만들어봅시다.\n"
   ]
  },
  {
   "cell_type": "code",
   "execution_count": null,
   "metadata": {},
   "outputs": [],
   "source": [
    "# 부모 클래스에 정의를 했음에도 메소드를 호출 할 수 있습니다.\n"
   ]
  },
  {
   "cell_type": "markdown",
   "metadata": {},
   "source": [
    "* 이처럼 상속은 공통된 속성이나 메소드를 부모 클래스에 정의하고, 이를 상속받아 다양한 형태의 사람들을 만들 수 있습니다."
   ]
  },
  {
   "cell_type": "code",
   "execution_count": null,
   "metadata": {},
   "outputs": [],
   "source": [
    "# 진짜 상속관계인지 확인해봅시다.\n"
   ]
  },
  {
   "cell_type": "code",
   "execution_count": null,
   "metadata": {},
   "outputs": [],
   "source": []
  },
  {
   "cell_type": "markdown",
   "metadata": {},
   "source": [
    "## super()\n",
    "\n",
    "* 자식 클래스에 메서드를 추가 구현할 수 있습니다.\n",
    "\n",
    "* 부모 클래스의 내용을 사용하고자 할 때, `super()`를 사용할 수 있습니다."
   ]
  },
  {
   "cell_type": "code",
   "execution_count": null,
   "metadata": {},
   "outputs": [],
   "source": [
    "class Person:\n",
    "    def __init__(self, name, age, number, email):\n",
    "        self.name = name\n",
    "        self.age = age\n",
    "        self.number = number\n",
    "        self.email = email \n",
    "        \n",
    "    def greeting(self):\n",
    "        print(f'안녕, {self.name}')\n",
    "        \n",
    "class Student(Person):\n",
    "    def __init__(self, name, age, number, email, student_id):\n",
    "        self.name = name\n",
    "        self.age = age\n",
    "        self.number = number\n",
    "        self.email = email \n",
    "        self.student_id = student_id\n",
    "        \n",
    "p1 = Person('홍길동', 200, '0101231234', 'hong@gildong')\n",
    "s1 = Student('학생', 20, '12312312', 'student@naver.com', '190000')"
   ]
  },
  {
   "cell_type": "markdown",
   "metadata": {},
   "source": [
    "* 위의 코드를 보면, 상속을 했음에도 불구하고 동일한 코드가 반복됩니다. "
   ]
  },
  {
   "cell_type": "code",
   "execution_count": 12,
   "metadata": {},
   "outputs": [
    {
     "name": "stdout",
     "output_type": "stream",
     "text": [
      "이 친구는 강아지입니다.\n"
     ]
    }
   ],
   "source": [
    "name= 1\n",
    "class Dog:\n",
    "    nums=0\n",
    "    def __init__(self, name, age):\n",
    "        self.age = age\n",
    "        self.name = name\n",
    "        Dog.nums += 1\n",
    "    \n",
    "    def bark(self):\n",
    "        print(f'멍멍 나는 {self.name}이고, {self.age}살 입니다.')\n",
    "        \n",
    "    @staticmethod\n",
    "    def info():\n",
    "        print(f'이 친구는 강아지입니다.')\n",
    "\n",
    "        \n",
    "york=Dog('a',4)\n",
    "york.info()\n",
    "\n"
   ]
  },
  {
   "cell_type": "markdown",
   "metadata": {},
   "source": [
    "## 메소드 오버라이딩\n",
    "\n",
    "* 메서드를 재정의할 수도 있습니다."
   ]
  },
  {
   "cell_type": "code",
   "execution_count": null,
   "metadata": {},
   "outputs": [],
   "source": [
    "# 학생은 공손하게 이야기를 해봅시다.\n"
   ]
  },
  {
   "cell_type": "code",
   "execution_count": null,
   "metadata": {},
   "outputs": [],
   "source": []
  },
  {
   "cell_type": "markdown",
   "metadata": {},
   "source": [
    "## 상속관계에서의 이름공간\n",
    "\n",
    "* 기존에 인스턴스 -> 클래스순으로 이름 공간을 탐색해나가는 과정에서 상속관계에 있으면 아래와 같이 확장됩니다.\n",
    "\n",
    "* 인스턴스 -> 자식 클래스 -> 부모 클래스 -> 전역"
   ]
  },
  {
   "cell_type": "markdown",
   "metadata": {},
   "source": [
    "## 실습1 \n",
    "\n",
    "> Teacher 클래스를 만들어보고 Student와 Teacher 클래스에 각각 다른 행동의 메소드들을 하나씩 추가해봅시다."
   ]
  },
  {
   "cell_type": "code",
   "execution_count": null,
   "metadata": {},
   "outputs": [],
   "source": [
    "# 아래에 코드를 작성해주세요.\n",
    "class Person:\n",
    "    def __init__(self, name, age, email):\n",
    "        self.name=name\n",
    "        self.age=age\n",
    "        self.email=email\n",
    "    \n",
    "    def poo(self):\n",
    "        return f'{self.name} 싼다.'\n",
    "    def eat(self):\n",
    "        return f'{self.name} 먹는다.'\n",
    "    def age(self):\n",
    "        return f'{self.age} 살이다.'\n",
    "        \n",
    "    \n",
    "class Student(Person):\n",
    "    def __init__(self,name,age,email,scores):\n",
    "        super().__init__(name,age,email)\n",
    "        self.scores=scores\n",
    "        \n",
    "    def study(self):\n",
    "        return f'{self.name} 공부한다.'\n",
    "\n",
    "class Teacher(Person):\n",
    "    def __init__(self,name,age,email,power):\n",
    "        super().__init__(name,age,email)\n",
    "        self.power=power\n",
    "        \n",
    "    def teach(self):\n",
    "        return f'{self.name} 가르친다.'\n",
    "    \n",
    "donghun = Student('donghun',27,'pok_winter@naver.com',100)\n",
    "sungjin = Teacher('sungjin',25,'sungjin@naver.com','개쌤')\n",
    "\n",
    "donghun.study()\n",
    "sungjin.teach()"
   ]
  },
  {
   "cell_type": "markdown",
   "metadata": {},
   "source": [
    "## 실습2\n",
    "\n",
    "> 사실 사람은 포유류입니다. \n",
    ">\n",
    "> Animal Class를 만들고, Person클래스가 상속받도록 구성해봅시다.\n",
    ">\n",
    "> 변수나, 메소드는 자유롭게 만들어봅시다."
   ]
  },
  {
   "cell_type": "code",
   "execution_count": null,
   "metadata": {},
   "outputs": [],
   "source": [
    "# 아래에 코드를 작성해주세요.\n",
    "class Animal:\n",
    "    def __init__(self, legs, power, species):\n",
    "        self.legs=legs\n",
    "        self.power=power\n",
    "        self.species=species\n",
    "        print(f'{self.species}탄생 !')\n",
    "    \n",
    "    def eat(self):\n",
    "        return f'{self.species} 먹는다.'\n",
    "    def sleep(self):\n",
    "        return f'{self.species} 잔다.'\n",
    "    \n",
    "class Person(Animal):\n",
    "    def __init__(self, legs, power, species, clothes):\n",
    "        self.legs=legs\n",
    "        self.power=power\n",
    "        self.species=species\n",
    "        self.clothes=clothes\n",
    "        print(f'{self.species}탄생 !')\n",
    "    \n",
    "    def kill(self,x):\n",
    "        return f'{self.species}은 {x.species}를 죽인다 ㅠ'\n",
    "    \n",
    "hapu = Animal(3,60,'hapu')\n",
    "human = Person(2,40,'human','blue')\n",
    "human.kill(hapu)"
   ]
  }
 ],
 "metadata": {
  "kernelspec": {
   "display_name": "Python 3",
   "language": "python",
   "name": "python3"
  },
  "language_info": {
   "codemirror_mode": {
    "name": "ipython",
    "version": 3
   },
   "file_extension": ".py",
   "mimetype": "text/x-python",
   "name": "python",
   "nbconvert_exporter": "python",
   "pygments_lexer": "ipython3",
   "version": "3.7.1"
  },
  "latex_envs": {
   "LaTeX_envs_menu_present": true,
   "autoclose": false,
   "autocomplete": true,
   "bibliofile": "biblio.bib",
   "cite_by": "apalike",
   "current_citInitial": 1,
   "eqLabelWithNumbers": true,
   "eqNumInitial": 1,
   "hotkeys": {
    "equation": "Ctrl-E",
    "itemize": "Ctrl-I"
   },
   "labels_anchors": false,
   "latex_user_defs": false,
   "report_style_numbering": false,
   "user_envs_cfg": false
  },
  "toc": {
   "base_numbering": 1,
   "nav_menu": {},
   "number_sections": true,
   "sideBar": true,
   "skip_h1_title": false,
   "title_cell": "Table of Contents",
   "title_sidebar": "Contents",
   "toc_cell": false,
   "toc_position": {},
   "toc_section_display": true,
   "toc_window_display": false
  }
 },
 "nbformat": 4,
 "nbformat_minor": 2
}
