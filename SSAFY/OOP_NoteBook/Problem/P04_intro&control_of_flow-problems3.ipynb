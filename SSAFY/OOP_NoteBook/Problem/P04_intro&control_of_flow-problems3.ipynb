{
 "cells": [
  {
   "cell_type": "markdown",
   "metadata": {},
   "source": [
    "## Intro&Control_of_flow-문제3\n"
   ]
  },
  {
   "cell_type": "markdown",
   "metadata": {},
   "source": [
    "### 문제1\n",
    "\n",
    ">다음 소스 코드를 완성하여 1부터 100까지의 숫자를 출력하면서 2의 배수일 때는 'Fizz', 11의 배수일 때는 'Buzz', 2와 11의 공배수일 때는 'FizzBuzz'가 출력되게 만드세요."
   ]
  },
  {
   "cell_type": "code",
   "execution_count": 1,
   "metadata": {},
   "outputs": [
    {
     "name": "stdout",
     "output_type": "stream",
     "text": [
      "Fizz\n",
      "Fizz\n",
      "Fizz\n",
      "Fizz\n",
      "Fizz\n",
      "Buzz\n",
      "Fizz\n",
      "Fizz\n",
      "Fizz\n",
      "Fizz\n",
      "Fizz\n",
      "FizzBuzz\n",
      "Fizz\n",
      "Fizz\n",
      "Fizz\n",
      "Fizz\n",
      "Fizz\n",
      "Buzz\n",
      "Fizz\n",
      "Fizz\n",
      "Fizz\n",
      "Fizz\n",
      "Fizz\n",
      "FizzBuzz\n",
      "Fizz\n",
      "Fizz\n",
      "Fizz\n",
      "Fizz\n",
      "Fizz\n",
      "Buzz\n",
      "Fizz\n",
      "Fizz\n",
      "Fizz\n",
      "Fizz\n",
      "Fizz\n",
      "FizzBuzz\n",
      "Fizz\n",
      "Fizz\n",
      "Fizz\n",
      "Fizz\n",
      "Fizz\n",
      "Buzz\n",
      "Fizz\n",
      "Fizz\n",
      "Fizz\n",
      "Fizz\n",
      "Fizz\n",
      "FizzBuzz\n",
      "Fizz\n",
      "Fizz\n",
      "Fizz\n",
      "Fizz\n",
      "Fizz\n",
      "Buzz\n",
      "Fizz\n"
     ]
    }
   ],
   "source": [
    "for i in range(1,101):\n",
    "    if i % 22 == 0:\n",
    "        print('FizzBuzz')\n",
    "    elif i%11 == 0:\n",
    "        print('Buzz')\n",
    "    elif i%2 ==0:\n",
    "        print('Fizz')"
   ]
  },
  {
   "cell_type": "markdown",
   "metadata": {},
   "source": [
    "### 문제2\n",
    "\n",
    ">사용자로부터 세 개의 숫자를 입력 받은 후 가장 큰 숫자를 출력하세요."
   ]
  },
  {
   "cell_type": "code",
   "execution_count": 6,
   "metadata": {},
   "outputs": [
    {
     "name": "stdout",
     "output_type": "stream",
     "text": [
      "50 40 10\n",
      "50\n"
     ]
    }
   ],
   "source": [
    "lis=list(map(int,input().split()))\n",
    "result=0\n",
    "for i in range(0,len(lis)):\n",
    "    if  result<lis[i]:\n",
    "        result=lis[i]\n",
    "print(result)"
   ]
  },
  {
   "cell_type": "markdown",
   "metadata": {},
   "source": [
    "### 문제3\n",
    "\n",
    "> 다음은 학생들의 혈액형(A, B, AB, O)에 대한 데이터입니다. 각 혈액형 별 학생수의 합계를 구하세요."
   ]
  },
  {
   "cell_type": "code",
   "execution_count": 7,
   "metadata": {},
   "outputs": [],
   "source": [
    "blood_types = ['A', 'B', 'A', 'O', 'AB', 'AB', 'O', 'A', 'B', 'O', 'B', 'AB']"
   ]
  },
  {
   "cell_type": "code",
   "execution_count": 10,
   "metadata": {},
   "outputs": [
    {
     "name": "stdout",
     "output_type": "stream",
     "text": [
      "A형은 3명입니다.\n",
      "B형은 3명입니다.\n",
      "AB형은 3명입니다.\n",
      "O형은 3명입니다.\n"
     ]
    }
   ],
   "source": [
    "re = ['A','B','AB','O']\n",
    "result = [0]*len(re)\n",
    "for i in range(0,len(re)):\n",
    "    for k in blood_types:\n",
    "        if re[i] == k:\n",
    "            result[i]+=1\n",
    "for z in range(0,len(result)):\n",
    "    print(f'{re[z]}형은 {result[z]}명입니다.')"
   ]
  },
  {
   "cell_type": "markdown",
   "metadata": {},
   "source": [
    "### 문제4\n",
    "\n",
    ">다음 리스트의 요소값 중에서 중복되는 값만 뽑아서 새로운 리스트로 옮기고 요소의 개수를 출력하세요. \n",
    "\n",
    ">some_lists = ['a', 'b', 'c', 'b', 'd', 'm', 'n', 'n']"
   ]
  },
  {
   "cell_type": "code",
   "execution_count": 14,
   "metadata": {},
   "outputs": [
    {
     "name": "stdout",
     "output_type": "stream",
     "text": [
      "['b', 'n']\n"
     ]
    }
   ],
   "source": [
    "some_lists = ['a', 'b', 'c', 'b', 'd', 'm', 'n', 'n']\n",
    "cnt={}\n",
    "result=[]\n",
    "for k in some_lists:\n",
    "    if k in cnt:\n",
    "        cnt[k]+=1\n",
    "    else:\n",
    "        cnt[k]=1\n",
    "for k,v in cnt.items():\n",
    "    if v>=2:\n",
    "        if k not in result:\n",
    "            result.append(k)\n",
    "print(result)"
   ]
  },
  {
   "cell_type": "markdown",
   "metadata": {},
   "source": [
    "### 문제5\n",
    "\n",
    ">표준 입력으로 국어, 영어, 수학, 과학 점수가 입력됩니다. 네 과목의 평균 점수가 80점 이상일 때 합격이라고 정했습니다. 평균 점수에 따라 '합격', '불합격'을 출력하는 프로그램을 만드세요. \n",
    "단, 점수는 0점부터 100점까지만 입력받을 수 있으며 범위를 벗어났다면 '잘못된 점수'를 출력하고 합격, 불합격 여부는 출력하지 않아야 합니다. "
   ]
  },
  {
   "cell_type": "code",
   "execution_count": 20,
   "metadata": {},
   "outputs": [
    {
     "name": "stdout",
     "output_type": "stream",
     "text": [
      "70 70 70 70\n",
      "불합격\n"
     ]
    }
   ],
   "source": [
    "lis=list(map(int,input().split()))\n",
    "def aver(lis):\n",
    "    result=0\n",
    "    for i in lis:\n",
    "        if i>100 or i<0:\n",
    "            return '잘못된 점수'\n",
    "        else:\n",
    "            result+=i\n",
    "    result = result/len(lis)\n",
    "    if result >= 80:\n",
    "        return '합격'\n",
    "    else:\n",
    "        return '불합격'ㄴ\n",
    "print(aver(lis))"
   ]
  }
 ],
 "metadata": {
  "kernelspec": {
   "display_name": "Python 3",
   "language": "python",
   "name": "python3"
  },
  "language_info": {
   "codemirror_mode": {
    "name": "ipython",
    "version": 3
   },
   "file_extension": ".py",
   "mimetype": "text/x-python",
   "name": "python",
   "nbconvert_exporter": "python",
   "pygments_lexer": "ipython3",
   "version": "3.7.1"
  }
 },
 "nbformat": 4,
 "nbformat_minor": 2
}
