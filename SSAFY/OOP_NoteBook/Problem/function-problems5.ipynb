{
 "cells": [
  {
   "cell_type": "markdown",
   "metadata": {},
   "source": [
    "## Function-Problems1"
   ]
  },
  {
   "cell_type": "markdown",
   "metadata": {},
   "source": [
    "### 문제1\n",
    ">모든 인수의 합계를 반환하는 함수를 만드세요. 입력 값은 함수에 대한 매개 변수로 인덱스와\n",
    "함께 점차 증가합니다. (첫번째 인덱스는 1부터 시작합니다)"
   ]
  },
  {
   "cell_type": "code",
   "execution_count": null,
   "metadata": {},
   "outputs": [],
   "source": [
    "# 예시 1\n",
    "add(3, 4, 5) # returns (3*1)+(4*2)+(5*3)=26\n",
    "\n",
    "# 예시 2\n",
    "add() #=> 0\n",
    "add(1,2,3) #=> 14\n",
    "add(1,4,-5,5) #=> 14\n",
    "\n",
    "\n",
    "# 유의\n",
    "인수가 없으면 0을 반환합니다."
   ]
  },
  {
   "cell_type": "code",
   "execution_count": 3,
   "metadata": {},
   "outputs": [
    {
     "name": "stdout",
     "output_type": "stream",
     "text": [
      "0\n",
      "14\n",
      "14\n"
     ]
    }
   ],
   "source": [
    "#여기에 코드를 작성하세요\n",
    "def my_add(*arg):\n",
    "    result=0\n",
    "    if bool(arg)==False:\n",
    "        return 0\n",
    "    for i in range(1,len(arg)+1):\n",
    "        result+=arg[i-1]*i\n",
    "    return result\n",
    "\n",
    "print(my_add())\n",
    "print(my_add(1,2,3))\n",
    "print(my_add(1,4,-5,5))"
   ]
  },
  {
   "cell_type": "markdown",
   "metadata": {},
   "source": [
    "### 문제2\n",
    "\n",
    ">양을 세는 함수를 만들어 보세요. 예를 들어, 3이라는 숫자가 주어지면 \"1 sheep...2 sheep...3 sheep...\"이라는 문자열을 리턴하면 됩니다.\n",
    "\n",
    "> 항상 '양의 정수' 만을 인수로 받습니다."
   ]
  },
  {
   "cell_type": "code",
   "execution_count": 5,
   "metadata": {},
   "outputs": [
    {
     "name": "stdout",
     "output_type": "stream",
     "text": [
      "1 sheep...2 sheep...3 sheep...\n",
      "1 sheep...2 sheep...3 sheep...4 sheep...5 sheep...\n"
     ]
    }
   ],
   "source": [
    "#여기에 코드를 작성하세요\n",
    "def sheep(x):\n",
    "    result=''\n",
    "    for i in range(1,x+1):\n",
    "        result+=f'{i} sheep...'\n",
    "    return result\n",
    "\n",
    "print(sheep(3))\n",
    "print(sheep(5))"
   ]
  },
  {
   "cell_type": "markdown",
   "metadata": {},
   "source": [
    "### 문제3\n",
    "\n",
    ">문자열 목록을 필터링하고 친구 이름만 있는 목록을 반환하는 프로그램을 만드세요. 당신의 친구들의 이름은 모두 4개의 글자로 되어 있습니다.\n",
    "\n",
    ">예시\n",
    "- Input = [\"Ryan\", \"Kieran\", \"Jason\", \"Yous\"], Output = [\"Ryan\", \"Yous\"]"
   ]
  },
  {
   "cell_type": "code",
   "execution_count": 6,
   "metadata": {},
   "outputs": [
    {
     "name": "stdout",
     "output_type": "stream",
     "text": [
      "['Ryan', 'Yous']\n"
     ]
    }
   ],
   "source": [
    "#여기에 코드를 작성하세요\n",
    "def my_friend(x):\n",
    "    result=[]\n",
    "    for i in x:\n",
    "        if len(i)==4:\n",
    "            result.append(i)\n",
    "    return result\n",
    "\n",
    "print(my_friend([\"Ryan\", \"Kieran\", \"Jason\", \"Yous\"]))"
   ]
  },
  {
   "cell_type": "markdown",
   "metadata": {},
   "source": [
    "### 문제4\n",
    "\n",
    ">자릿수가 주어지면 5미만의 숫자를 '0'으로 바꾸고, 5 이상의 숫자는 '1로'바꿔서 문자열로 반환하는 함수를 작성하세요. (단, 함수를 호출할 때 인자는 str 자료형이어야 합니다)\n"
   ]
  },
  {
   "cell_type": "code",
   "execution_count": 9,
   "metadata": {},
   "outputs": [
    {
     "name": "stdout",
     "output_type": "stream",
     "text": [
      "0000\n",
      "10000\n",
      "110000\n"
     ]
    }
   ],
   "source": [
    "#여기에 코드를 작성하세요\n",
    "def jari(x):\n",
    "    result=''\n",
    "    real_result=''\n",
    "    for i in range(x,0,-1):\n",
    "        if i < 5:\n",
    "            result+='0'\n",
    "        else:\n",
    "            result+='1'\n",
    "    return result\n",
    "print(jari(4))\n",
    "print(jari(5))\n",
    "print(jari(6))"
   ]
  }
 ],
 "metadata": {
  "kernelspec": {
   "display_name": "Python 3",
   "language": "python",
   "name": "python3"
  },
  "language_info": {
   "codemirror_mode": {
    "name": "ipython",
    "version": 3
   },
   "file_extension": ".py",
   "mimetype": "text/x-python",
   "name": "python",
   "nbconvert_exporter": "python",
   "pygments_lexer": "ipython3",
   "version": "3.7.1"
  }
 },
 "nbformat": 4,
 "nbformat_minor": 2
}
