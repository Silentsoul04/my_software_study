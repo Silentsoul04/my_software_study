{
 "cells": [
  {
   "cell_type": "markdown",
   "metadata": {},
   "source": [
    "## Intro&Control_of_flow-문제2\n"
   ]
  },
  {
   "cell_type": "markdown",
   "metadata": {},
   "source": [
    "### 문제1\n",
    "\n",
    "> 아래 코드의 출력 결과를 예상해보세요."
   ]
  },
  {
   "cell_type": "code",
   "execution_count": 1,
   "metadata": {},
   "outputs": [
    {
     "name": "stdout",
     "output_type": "stream",
     "text": [
      "3\n",
      "5\n"
     ]
    }
   ],
   "source": [
    "if True:\n",
    "    if False:\n",
    "        print(\"1\")\n",
    "        print(\"2\")\n",
    "    else:\n",
    "        print(\"3\")\n",
    "else:\n",
    "    print(\"4\")\n",
    "print(\"5\")"
   ]
  },
  {
   "cell_type": "markdown",
   "metadata": {},
   "source": [
    "### 문제2\n",
    "\n",
    "> 투자 경고 종목 리스트가 있을 때 사용자로부터 종목명을 입력 받은 후 해당 종목이 투자 경고 종목이라면 '투자 경고 종목입니다'를 아니면 \"투자 경고 종목이 아닙니다.\"를 출력하는 프로그램을 작성하세요. \n",
    "\n",
    "warn_investment_list = [\"Microsoft\", \"Google\", \"Naver\", \"Kakao\", \"SAMSUNG\", \"LG\"]\n"
   ]
  },
  {
   "cell_type": "code",
   "execution_count": 2,
   "metadata": {},
   "outputs": [
    {
     "name": "stdout",
     "output_type": "stream",
     "text": [
      "Microsoft\n",
      "투자 경고 종목입니다\n"
     ]
    }
   ],
   "source": [
    "#여기에 코드를 작성하세요.\n",
    "investment=input()\n",
    "warn_investment_list = [\"Microsoft\", \"Google\", \"Naver\", \"Kakao\", \"SAMSUNG\", \"LG\"]\n",
    "if investment in warn_investment_list:\n",
    "    print('투자 경고 종목입니다')\n",
    "else:\n",
    "    print('투자 경고 종목이 아닙니다')"
   ]
  },
  {
   "cell_type": "markdown",
   "metadata": {},
   "source": [
    "### 문제3\n",
    "\n",
    ">다음 코드의 결과값을 예측해보세요."
   ]
  },
  {
   "cell_type": "code",
   "execution_count": 3,
   "metadata": {},
   "outputs": [
    {
     "name": "stdout",
     "output_type": "stream",
     "text": [
      "shirt\n"
     ]
    }
   ],
   "source": [
    "a = \"Life is too short, you need python\"\n",
    "\n",
    "if 'wife' in a:\n",
    "    print('wife') #wife는 없으니 통과\n",
    "elif 'python' in a and 'you' not in a: #Treu and False\n",
    "    print('python') #you가 a에 들어가 있으니 통과\n",
    "elif 'shirt' not in a:#True\n",
    "    print('shirt')\n",
    "elif 'need' in a:#위에 실행해서 실행안됨\n",
    "    print('need')\n",
    "else:\n",
    "    print('none')#위에 실행해서 실행안됨"
   ]
  },
  {
   "cell_type": "markdown",
   "metadata": {},
   "source": [
    "### 문제4\n",
    "\n",
    "> 다음 리스트에서 10 이상인 수를 전부 더해서 출력하세요.\n",
    "\n",
    "> exNumber = [43, 2, 6, 34, 12, 32, 7, 9, 81, 51]"
   ]
  },
  {
   "cell_type": "code",
   "execution_count": 9,
   "metadata": {},
   "outputs": [
    {
     "name": "stdout",
     "output_type": "stream",
     "text": [
      "253\n",
      "True\n"
     ]
    }
   ],
   "source": [
    "#여기에 코드를 작성하세요.\n",
    "result = 0\n",
    "exNumber = [43, 2, 6, 34, 12, 32, 7, 9, 81, 51]\n",
    "for i in exNumber:\n",
    "    if i>=10:\n",
    "        result+=i\n",
    "print(result)"
   ]
  },
  {
   "cell_type": "markdown",
   "metadata": {},
   "source": [
    "### 문제5\n",
    "\n",
    "> A 기업의 입사 시험은 필기 시험 점수가 80점 이상이면서 코딩 시험을 통과해야 합격이라고 정했습니다. (코딩 시험 통과 여부는 True, False로 구분) 사용자로부터 필기시험 점수를 입력받아 '합격' 혹은 '불합격' 여부를 판단하는 코드를 작성하세요."
   ]
  },
  {
   "cell_type": "code",
   "execution_count": 14,
   "metadata": {},
   "outputs": [
    {
     "name": "stdout",
     "output_type": "stream",
     "text": [
      "80 False\n",
      "불합격\n"
     ]
    }
   ],
   "source": [
    "#여기에 코드를 작성하세요.\n",
    "a,b=input().split()\n",
    "a=int(a)\n",
    "try:\n",
    "    if b =='False':\n",
    "        raise Exception\n",
    "    else:\n",
    "        if a>=80:\n",
    "            print('합격')\n",
    "        else:\n",
    "            print('불합격')\n",
    "except Exception:\n",
    "    print('불합격')"
   ]
  }
 ],
 "metadata": {
  "kernelspec": {
   "display_name": "Python 3",
   "language": "python",
   "name": "python3"
  },
  "language_info": {
   "codemirror_mode": {
    "name": "ipython",
    "version": 3
   },
   "file_extension": ".py",
   "mimetype": "text/x-python",
   "name": "python",
   "nbconvert_exporter": "python",
   "pygments_lexer": "ipython3",
   "version": "3.7.1"
  }
 },
 "nbformat": 4,
 "nbformat_minor": 2
}
