{
 "cells": [
  {
   "cell_type": "markdown",
   "metadata": {},
   "source": [
    "## Intro&Control_of_flow-문제4\n"
   ]
  },
  {
   "cell_type": "markdown",
   "metadata": {},
   "source": [
    "### 문제1\n",
    "\n",
    ">문자열 요소로만 이루어진 리스트에서 문자열 길이가 2 이상이고 주어진 문자열의 첫번째와 마지막 문자가 같은 요소를 모아 새로운 리스트를 만들고 해당 리스트 요소의 개수를 구하세요.\n",
    "\n",
    ">samples = ['level', 'asdwe', 's', 'abceda', 'gsdwrtfg'] -> 결과값: 3 \n"
   ]
  },
  {
   "cell_type": "code",
   "execution_count": 2,
   "metadata": {},
   "outputs": [
    {
     "name": "stdout",
     "output_type": "stream",
     "text": [
      "['level', 'abceda', 'gsdwrtfg']\n"
     ]
    }
   ],
   "source": [
    "samples = ['level','asdwe','s','abceda','gsdwrtfg']\n",
    "lis=[]\n",
    "for i in range(len(samples)):\n",
    "    if len(samples[i]) >=2 and samples[i][0]==samples[i][-1]:\n",
    "        lis += [samples[i]]\n",
    "print(lis)"
   ]
  },
  {
   "cell_type": "markdown",
   "metadata": {},
   "source": [
    "### 문제2\n",
    "\n",
    ">다음 리스트에서 중복된 요소를 제거한 리스트를 출력하세요. \n",
    "\n",
    ">items = [10,20,40,20,10,30,50,60,40,80,50,40,20,30,10] "
   ]
  },
  {
   "cell_type": "code",
   "execution_count": 6,
   "metadata": {},
   "outputs": [
    {
     "name": "stdout",
     "output_type": "stream",
     "text": [
      "[10, 20, 40, 30, 50, 60, 80]\n"
     ]
    }
   ],
   "source": [
    "items = [10,20,40,20,10,30,50,60,40,80,50,40,20,30,10]\n",
    "new_li= []\n",
    "for i in items:\n",
    "    if i not in new_li:\n",
    "        new_li+=[i]\n",
    "print(new_li)"
   ]
  },
  {
   "cell_type": "markdown",
   "metadata": {},
   "source": [
    "### 문제3\n",
    "\n",
    ">다음 리스트에서 0번째 4번째 5번째 요소를 지운 새로운 리스트를 생성하세요.\n",
    "\n",
    ">colors = ['Apple', 'Banana', 'Coconut', 'Deli', 'Ele', 'Grape']"
   ]
  },
  {
   "cell_type": "code",
   "execution_count": 8,
   "metadata": {},
   "outputs": [
    {
     "name": "stdout",
     "output_type": "stream",
     "text": [
      "['Banana', 'Coconut', 'Deli']\n"
     ]
    }
   ],
   "source": [
    "colors = ['Apple', 'Banana', 'Coconut', 'Deli', 'Ele', 'Grape']\n",
    "new_li = []\n",
    "for i in range(len(colors)):\n",
    "    if i == 0 or i == 4 or i == 5:\n",
    "        continue\n",
    "    else:\n",
    "        new_li+=[colors[i]]\n",
    "print(new_li)"
   ]
  },
  {
   "cell_type": "markdown",
   "metadata": {},
   "source": [
    "### 문제4\n",
    "\n",
    "> 세 정수 A, B, C가 입력값으로 주어질 때, 두 번째로 큰 정수를 출력하는 프로그램을 작성하세요. "
   ]
  },
  {
   "cell_type": "code",
   "execution_count": 18,
   "metadata": {},
   "outputs": [
    {
     "name": "stdout",
     "output_type": "stream",
     "text": [
      "20 19 21\n"
     ]
    },
    {
     "data": {
      "text/plain": [
       "20"
      ]
     },
     "execution_count": 18,
     "metadata": {},
     "output_type": "execute_result"
    }
   ],
   "source": [
    "def my_mid(a,b,c):\n",
    "    li = [a,b,c]\n",
    "    for i in range(len(li)-1,0,-1):\n",
    "        for j in range(0,i):\n",
    "            if li[j]>li[j+1]:\n",
    "                li[j],li[j+1]=li[j+1],li[j]\n",
    "    return li[1]\n",
    "a,b,c=tuple(map(int,input().split()))\n",
    "my_mid(a,b,c)"
   ]
  },
  {
   "cell_type": "markdown",
   "metadata": {},
   "source": [
    "### 문제5\n",
    "\n",
    ">사용자로부터 달러, 엔, 유로, 또는 위안 금액을 입력받은 후 이를 원으로 변환하는 프로그램을 작성하세요. 각 통화별 환율은 다음과 같습니다. (사용자는 100 달러, 1000 엔, 13 유로, 100 위안과 같이 금액과 통화명 사이에 공백을 넣어 입력한다고 가정합니다.)\n",
    "\n"
   ]
  },
  {
   "cell_type": "code",
   "execution_count": 20,
   "metadata": {},
   "outputs": [],
   "source": [
    "currency = {\n",
    "    'USD': 1167, 'JPY': 1.096, 'EURO': 1268, 'CNY': 171\n",
    "}"
   ]
  },
  {
   "cell_type": "code",
   "execution_count": 23,
   "metadata": {},
   "outputs": [
    {
     "name": "stdout",
     "output_type": "stream",
     "text": [
      "1000 엔\n",
      "1096.0\n"
     ]
    }
   ],
   "source": [
    "currency = {\n",
    "    '달러': 1167, '엔': 1.096, '유로': 1268, '위안': 171\n",
    "}\n",
    "money = input().split()\n",
    "result = currency[money[1]] * int(money[0])\n",
    "print(result)"
   ]
  }
 ],
 "metadata": {
  "kernelspec": {
   "display_name": "Python 3",
   "language": "python",
   "name": "python3"
  },
  "language_info": {
   "codemirror_mode": {
    "name": "ipython",
    "version": 3
   },
   "file_extension": ".py",
   "mimetype": "text/x-python",
   "name": "python",
   "nbconvert_exporter": "python",
   "pygments_lexer": "ipython3",
   "version": "3.6.7"
  }
 },
 "nbformat": 4,
 "nbformat_minor": 2
}
