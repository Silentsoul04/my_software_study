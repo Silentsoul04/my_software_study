{
 "cells": [
  {
   "cell_type": "markdown",
   "metadata": {},
   "source": [
    "## Function-Problems4"
   ]
  },
  {
   "cell_type": "markdown",
   "metadata": {},
   "source": [
    "### 문제1\n",
    "\n",
    ">OOO 모바일은 개인정보 보호를 위해 고지서를 보낼 때 고객들의 전화번호의 일부를 가립니다. 전화번호가 문자열 phone_number로 주어졌을 때, 전화번호의 뒷 4자리를 제외한 나머지 숫자를 전부 *으로 가린 문자열을 리턴하는 함수, solution을 완성해주세요."
   ]
  },
  {
   "cell_type": "code",
   "execution_count": 9,
   "metadata": {},
   "outputs": [
    {
     "name": "stdout",
     "output_type": "stream",
     "text": [
      "***-****-0337\n"
     ]
    }
   ],
   "source": [
    "def solution(phone):\n",
    "    result=''\n",
    "    phone=phone.split('-')\n",
    "    for i in range(len(phone)):\n",
    "        if i == len(phone)-1:\n",
    "            result+=phone[i]\n",
    "            break\n",
    "        result +='*'*len(phone[i])+'-'\n",
    "    return result\n",
    "print(solution('010-5191-0337'))"
   ]
  },
  {
   "cell_type": "markdown",
   "metadata": {},
   "source": [
    "### 문제2\n",
    "\n",
    ">문자열이 주어지면, 각 문자(대소문자 구분)를 한번씩 반복하여 문자열을 반환하는 함수를 작성하세요.\n",
    "\n",
    ">예시\n",
    "- double_char(\"String\") ==> \"SSttrriinngg\"\n",
    "- double_char(\"Hello World\") ==> \"HHeelllloo  WWoorrlldd\"\n",
    "- double_char(\"1234!_ \") ==> \"11223344!!__  \""
   ]
  },
  {
   "cell_type": "code",
   "execution_count": 12,
   "metadata": {},
   "outputs": [
    {
     "name": "stdout",
     "output_type": "stream",
     "text": [
      "SSttrriinngg\n",
      "HHeelllloo WWoorrlldd\n",
      "11223344!!__ \n"
     ]
    }
   ],
   "source": [
    "def double_char(word):\n",
    "    result = ''\n",
    "    for i in range(len(word)):\n",
    "        if word[i] == ' ':\n",
    "            result += ' '\n",
    "        else:\n",
    "            result += word[i]*2\n",
    "    return result\n",
    "\n",
    "print(double_char(\"String\"))\n",
    "print(double_char(\"Hello World\"))\n",
    "print(double_char(\"1234!_ \"))"
   ]
  },
  {
   "cell_type": "markdown",
   "metadata": {},
   "source": [
    "### 문제3\n",
    "\n",
    ">크기를 가지고 1과 0을 번갈아 나타내는 stringy 함수를 작성하고자 합니다. \n",
    "\n",
    "> 조건 및 출력예시\n",
    "- 문자열은 반드시 1부터 시작해야 합니다. \n",
    "- 스트링의 크기는 항상 양수이며 정수만 사용합니다.\n",
    "- 스트링의 크기(size)가 6이면 '101010'을 반환합니다.\n",
    "- 스트링의 크기(size)가 4이면 '1010'을 반환합니다. \n",
    "- 스트링의 크기(size)가 12이면 '101010101010'을 반환합니다. "
   ]
  },
  {
   "cell_type": "code",
   "execution_count": 17,
   "metadata": {},
   "outputs": [
    {
     "name": "stdout",
     "output_type": "stream",
     "text": [
      "101010\n",
      "101010101010\n",
      "10101\n"
     ]
    }
   ],
   "source": [
    "def solution(words):\n",
    "    result = ''\n",
    "    for word in range(words):\n",
    "        if word % 2:\n",
    "            result += '0'\n",
    "        else:\n",
    "            result += '1'\n",
    "    return result\n",
    "print(solution(6))\n",
    "print(solution(12))\n",
    "print(solution(5))"
   ]
  },
  {
   "cell_type": "markdown",
   "metadata": {},
   "source": [
    "### 문제4\n",
    "\n",
    "> 당신이 일하는 회사는 지불 시스템을 개발하는 계약을 맺었습니다. 당신의 임무는 금액(실수)을 달러와 센트의 문자열 서식으로 반환하는 함수를 개발하는 일입니다. 0이 누락 경우에 뒤에 0을 추가해야 합니다.\n",
    "\n",
    ">예시\n",
    "- 3 -> $3.00 \n"
   ]
  },
  {
   "cell_type": "code",
   "execution_count": 18,
   "metadata": {},
   "outputs": [
    {
     "name": "stdout",
     "output_type": "stream",
     "text": [
      "$3.00\n"
     ]
    }
   ],
   "source": [
    "def solution(x):\n",
    "    return f'${x}.00'\n",
    "print(solution(3))"
   ]
  },
  {
   "cell_type": "markdown",
   "metadata": {},
   "source": [
    "### 문제5\n",
    "\n",
    "> 1세기는 1년~100년까지, 2세기는 101년에서 200년까지를 포함합니다. 주어진 연도 값에서, 세기를 반환하는 함수를 작성하세요. "
   ]
  },
  {
   "cell_type": "code",
   "execution_count": 21,
   "metadata": {},
   "outputs": [
    {
     "name": "stdout",
     "output_type": "stream",
     "text": [
      "0세기\n",
      "21세기\n"
     ]
    }
   ],
   "source": [
    "def solution(century):\n",
    "    x=(century-1)//100+1\n",
    "    return f'{x}세기'\n",
    "print(solution(0))\n",
    "print(solution(2001))"
   ]
  }
 ],
 "metadata": {
  "kernelspec": {
   "display_name": "Python 3",
   "language": "python",
   "name": "python3"
  },
  "language_info": {
   "codemirror_mode": {
    "name": "ipython",
    "version": 3
   },
   "file_extension": ".py",
   "mimetype": "text/x-python",
   "name": "python",
   "nbconvert_exporter": "python",
   "pygments_lexer": "ipython3",
   "version": "3.6.7"
  }
 },
 "nbformat": 4,
 "nbformat_minor": 2
}
